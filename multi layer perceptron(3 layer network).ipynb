{
 "cells": [
  {
   "cell_type": "code",
   "execution_count": 2,
   "metadata": {},
   "outputs": [],
   "source": [
    "import pandas as pd\n",
    "import numpy as np"
   ]
  },
  {
   "cell_type": "code",
   "execution_count": 3,
   "metadata": {},
   "outputs": [],
   "source": [
    "input_size=2 # no. of features\n",
    "layers=[4,3] # no ofneurons in 1st and 2nd layer\n",
    "output_size=2 "
   ]
  },
  {
   "cell_type": "code",
   "execution_count": 4,
   "metadata": {},
   "outputs": [],
   "source": [
    "def softmax(a):\n",
    "    ea=np.exp(a)\n",
    "    ans=ea/np.sum(ea,axis=1,keepdims=True) #refer to concept down\n",
    "    \n",
    "    return ans"
   ]
  },
  {
   "cell_type": "code",
   "execution_count": 5,
   "metadata": {},
   "outputs": [
    {
     "data": {
      "text/plain": [
       "array([[1.00000000e+00, 3.97544974e-31],\n",
       "       [4.53978687e-05, 9.99954602e-01]])"
      ]
     },
     "execution_count": 5,
     "metadata": {},
     "output_type": "execute_result"
    }
   ],
   "source": [
    "a=np.array([[1,2,3],[4,5,6]])\n",
    "np.sum(a,axis=1,keepdims=True)\n",
    "arr=np.array([[80,10],[20,30]])\n",
    "a_=softmax(arr)\n",
    "a_"
   ]
  },
  {
   "cell_type": "code",
   "execution_count": 6,
   "metadata": {},
   "outputs": [],
   "source": [
    "class NeuralNetwork:\n",
    "    def __init__(self,input_size,layers,output_size):\n",
    "        np.random.seed(0)\n",
    "        \n",
    "        model={}\n",
    "        \n",
    "        model['w1']=np.random.randn(input_size,layers[0])\n",
    "        model['b1']=np.zeros(1,layers[0])\n",
    "        \n",
    "        model['w2']=np.random.randn(layers[0],layers[1])\n",
    "        model['b2']=np.zeros(1,layers[1])\n",
    "        \n",
    "        model['w3']=np.random.randn(layers[1],output_size)\n",
    "        model['b3']=np.zeros(1,output_size)\n",
    "        \n",
    "        self.model=model\n",
    "        \n",
    "    def forward(self,x):\n",
    "        \n",
    "        w1,w2,w3=self.model['w1'],self.model['w2'],self.model['w3']\n",
    "        b1,b2,b3=self.model['b1'],self.model['b2'],self.model['b3']\n",
    "        \n",
    "        Z1=np.dot(x,w1)+b1\n",
    "        a1=np.tanh(z1) # range between -1 to 1\n",
    "        \n",
    "        Z2=np.dot(x,w2)+b2\n",
    "        a2=np.tanh(z2)\n",
    "        \n",
    "        Z3=np.dot(x,w3)+b1\n",
    "        a1=softmax(z3)\n",
    "        \n",
    "        \n",
    "        \n",
    "        \n",
    "        \n",
    "        "
   ]
  },
  {
   "cell_type": "code",
   "execution_count": 9,
   "metadata": {},
   "outputs": [],
   "source": []
  },
  {
   "cell_type": "code",
   "execution_count": 10,
   "metadata": {},
   "outputs": [],
   "source": []
  },
  {
   "cell_type": "code",
   "execution_count": null,
   "metadata": {},
   "outputs": [],
   "source": []
  },
  {
   "cell_type": "code",
   "execution_count": null,
   "metadata": {},
   "outputs": [],
   "source": []
  }
 ],
 "metadata": {
  "kernelspec": {
   "display_name": "Python 3",
   "language": "python",
   "name": "python3"
  },
  "language_info": {
   "codemirror_mode": {
    "name": "ipython",
    "version": 3
   },
   "file_extension": ".py",
   "mimetype": "text/x-python",
   "name": "python",
   "nbconvert_exporter": "python",
   "pygments_lexer": "ipython3",
   "version": "3.7.3"
  }
 },
 "nbformat": 4,
 "nbformat_minor": 2
}
